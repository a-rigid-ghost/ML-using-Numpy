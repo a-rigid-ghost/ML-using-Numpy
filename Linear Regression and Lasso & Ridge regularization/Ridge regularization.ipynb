{
 "cells": [
  {
   "cell_type": "code",
   "execution_count": 1,
   "metadata": {},
   "outputs": [],
   "source": [
    "import numpy as np\n",
    "import pandas as pd\n",
    "import matplotlib.pyplot as plt\n",
    "\n",
    "n=8\n",
    "lambdalist=[0.25,0.5,0.75,1]\n",
    "ite =100000\n",
    "alpha=0.05\n",
    "error=[]\n",
    "error_test=[]\n",
    "for lamb in lambdalist:\n",
    "    data = pd.read_csv('train.csv')\n",
    "    X1 = data.iloc[:,0:1]\n",
    "    Y = data.iloc[:,1:2].values\n",
    "\n",
    "    data_pred = pd.read_csv('test.csv')\n",
    "    X_test1 = data_pred.iloc[:,0:1]\n",
    "    Y_test = data_pred.iloc[:,1:2].values\n",
    "\n",
    "    X = np.ones([1000,1])\n",
    "    for i in range (1,n+1):\n",
    "        dummy = np.power(X1,i)\n",
    "        X = np.concatenate((X,dummy),axis=1)\n",
    "\n",
    "    X_test = np.ones([200,1])\n",
    "    for i in range (1,n+1):\n",
    "        dummy = np.power(X_test1,i)\n",
    "        X_test = np.concatenate((X_test,dummy),axis=1)\n",
    "\n",
    "    X_test = (X_test - X.mean())/X.max()\n",
    "    X = (X - X.mean())/X.max()\n",
    "\n",
    "    theta=np.zeros([n+1,1])\n",
    "\n",
    "    def costfunction(X,theta,Y):\n",
    "        Z=X.dot(theta)\n",
    "        Z=Z-Y\n",
    "        Z=Z*Z\n",
    "        cost= np.sum(Z)/(2*(X.shape[0]))\n",
    "        W=np.sum(theta*theta)\n",
    "        W=lamb*W/(2*(X.shape[0]))\n",
    "        cost = cost+W \n",
    "        return cost\n",
    "\n",
    "    def grad_des(X,theta,iteration,Y):\n",
    "        cost = np.zeros(iteration)\n",
    "        for i in range (iteration):\n",
    "            theta = theta*(1-((lamb*alpha)/X.shape[0])) -(alpha)*((X.T).dot((X.dot(theta)-Y)))/(X.shape[0])\n",
    "            cost[i] = costfunction(X,theta,Y)\n",
    "        return theta,cost\n",
    "\n",
    "    theta,cost=grad_des(X,theta,ite,Y)\n",
    "\n",
    "    Y_pred=X_test.dot(theta)\n",
    "    error.append(costfunction(X,theta,Y))\n",
    "    error_test.append(costfunction(X_test,theta,Y_test))"
   ]
  },
  {
   "cell_type": "code",
   "execution_count": 2,
   "metadata": {},
   "outputs": [
    {
     "data": {
      "text/plain": [
       "<matplotlib.legend.Legend at 0x2560160d888>"
      ]
     },
     "execution_count": 2,
     "metadata": {},
     "output_type": "execute_result"
    },
    {
     "data": {
      "image/png": "[encoded data removed]",
      "text/plain": [
       "<Figure size 432x288 with 1 Axes>"
      ]
     },
     "metadata": {
      "needs_background": "light"
     },
     "output_type": "display_data"
    }
   ],
   "source": [
    "plt.scatter([0.25,0.5,0.75,1],error_test,label=\"test\")\n",
    "plt.scatter([0.25,0.5,0.75,1],error,label=\"train\")\n",
    "plt.legend()"
   ]
  },
  {
   "cell_type": "code",
   "execution_count": 3,
   "metadata": {},
   "outputs": [
    {
     "data": {
      "text/plain": [
       "[0.025774460729147818,\n",
       " 0.03213858133986669,\n",
       " 0.03639420548613521,\n",
       " 0.0397127179183564]"
      ]
     },
     "execution_count": 3,
     "metadata": {},
     "output_type": "execute_result"
    }
   ],
   "source": [
    "error"
   ]
  },
  {
   "cell_type": "code",
   "execution_count": null,
   "metadata": {},
   "outputs": [],
   "source": []
  }
 ],
 "metadata": {
  "kernelspec": {
   "display_name": "Python 3",
   "language": "python",
   "name": "python3"
  },
  "language_info": {
   "codemirror_mode": {
    "name": "ipython",
    "version": 3
   },
   "file_extension": ".py",
   "mimetype": "text/x-python",
   "name": "python",
   "nbconvert_exporter": "python",
   "pygments_lexer": "ipython3",
   "version": "3.7.4"
  }
 },
 "nbformat": 4,
 "nbformat_minor": 2
}
