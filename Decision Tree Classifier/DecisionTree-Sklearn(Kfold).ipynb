{
 "cells": [
  {
   "cell_type": "code",
   "execution_count": 4,
   "metadata": {},
   "outputs": [],
   "source": [
    "import numpy as np\n",
    "import pandas as pd\n",
    "import matplotlib.pyplot as plt\n",
    "import sklearn\n",
    "from sklearn.metrics import accuracy_score\n",
    "from sklearn.metrics import recall_score\n",
    "from sklearn.metrics import precision_score\n",
    "\n",
    "data = pd.read_csv('wine.csv')\n",
    "X1 = data.iloc[:,0:11]\n",
    "y = data.iloc[:,11:12].values\n",
    "\n",
    "X1 = (X1 - X1.mean())/(X1.std())\n",
    "\n",
    "X = np.ones([1599,1])\n",
    "for column in X1:\n",
    "    dummy=X1[column]\n",
    "    dummy=pd.cut(dummy, bins=4, labels=False).values\n",
    "    dummy=dummy.reshape(-1, 1)\n",
    "    X = np.concatenate((X,dummy),axis=1)\n",
    "X = np.delete(X, 0, 1)\n",
    "\n",
    "for i in range(1599):\n",
    "    if y[i]<5:\n",
    "        y[i]=0\n",
    "    elif y[i]>6 :\n",
    "        y[i]=2\n",
    "    else :\n",
    "        y[i]=1\n",
    "X=X.astype(int)"
   ]
  },
  {
   "cell_type": "code",
   "execution_count": 6,
   "metadata": {},
   "outputs": [
    {
     "name": "stdout",
     "output_type": "stream",
     "text": [
      "Accuracy  = 0.7967322583006765\n",
      "Precision = 0.5241085345891933\n",
      "Recall = 0.4302840268791319\n"
     ]
    }
   ],
   "source": [
    "\n",
    "from sklearn.tree import DecisionTreeClassifier\n",
    "classifier = DecisionTreeClassifier(criterion = 'entropy', random_state = 0, min_samples_split=10)\n",
    "from sklearn.model_selection import cross_validate\n",
    "scores = cross_validate(estimator = classifier, X = X, y = y.reshape(y.shape[0]), cv = 3, \n",
    "                        scoring = {'accuracy', 'precision_macro', 'recall_macro'},\n",
    "                        return_train_score=True)\n",
    "print('Accuracy  = '+ str(scores['test_accuracy'].mean()) )\n",
    "print('Precision = '+ str(scores['test_precision_macro'].mean()) )\n",
    "print('Recall = '+ str(scores['test_recall_macro'].mean()) )"
   ]
  },
  {
   "cell_type": "code",
   "execution_count": null,
   "metadata": {},
   "outputs": [],
   "source": []
  }
 ],
 "metadata": {
  "kernelspec": {
   "display_name": "Python 3",
   "language": "python",
   "name": "python3"
  },
  "language_info": {
   "codemirror_mode": {
    "name": "ipython",
    "version": 3
   },
   "file_extension": ".py",
   "mimetype": "text/x-python",
   "name": "python",
   "nbconvert_exporter": "python",
   "pygments_lexer": "ipython3",
   "version": "3.7.4"
  }
 },
 "nbformat": 4,
 "nbformat_minor": 2
}
