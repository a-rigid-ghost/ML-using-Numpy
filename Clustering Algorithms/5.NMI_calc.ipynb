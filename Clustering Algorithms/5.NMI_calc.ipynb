{
 "cells": [
  {
   "cell_type": "code",
   "execution_count": 1,
   "metadata": {},
   "outputs": [],
   "source": [
    "# dataset prep\n",
    "import numpy as np\n",
    "import pandas as pd\n",
    "import matplotlib.pyplot as plt\n",
    "import sklearn\n",
    "\n",
    "data = pd.read_csv('data.csv')\n",
    "data=data.drop(data.index[13])\n",
    "Y1 = data.iloc[:,0:1]\n",
    "X1 = data.iloc[:,1:8267].values\n",
    "Y1.columns=['Label']\n",
    "\n",
    "Y = pd.DataFrame(((Y1[\"Label\"].astype(str)).str.split(\"_\", 1)).str.get(0), columns = ['Label']).values\n",
    "\n",
    "idf = np.zeros([1,X1.shape[1]])\n",
    "df = np.zeros([1,X1.shape[1]])\n",
    "\n",
    "for i in range(8266):\n",
    "    for j in range(589):\n",
    "        if X1[j,i]!=0:\n",
    "            df[0,i]=df[0,i]+1\n",
    "\n",
    "for i in range(8266):\n",
    "    idf[0,i]=(np.log(590/(1+df[0,i])))\n",
    "\n",
    "X2=np.zeros([X1.shape[0],X1.shape[1]])\n",
    "for i in range(589):\n",
    "    for j in range(8266):\n",
    "        X2[i,j]=X1[i,j]*idf[0,j]\n",
    "\n",
    "sq=np.square(X2)\n",
    "\n",
    "sumsq=np.zeros([X1.shape[0],1])\n",
    "for i in range(589):\n",
    "    sumsq[i,0]=np.sqrt(np.sum(sq[i]))\n",
    "    \n",
    "\n",
    "X=np.zeros([X1.shape[0],X1.shape[1]])\n",
    "for i in range(589):\n",
    "    for j in range(8266):\n",
    "        X[i,j]=X2[i,j]/sumsq[i,0]\n"
   ]
  },
  {
   "cell_type": "code",
   "execution_count": 2,
   "metadata": {},
   "outputs": [],
   "source": [
    "#turning the string labels into numerical labels\n",
    "count=0\n",
    "label = np.zeros([589,1])\n",
    "label[0,0]=0\n",
    "for i in range(1,588):\n",
    "    if Y[i]!=Y[i-1]:\n",
    "        count=count+1\n",
    "    label[i]=count"
   ]
  },
  {
   "cell_type": "code",
   "execution_count": 3,
   "metadata": {},
   "outputs": [],
   "source": [
    "#counting the frequency of each label\n",
    "freq=np.zeros([1,8])\n",
    "\n",
    "for i in range(589):\n",
    "    freq[0,(int)(label[i][0])]=freq[0,(int)(label[i][0])]+1\n",
    "\n",
    "labelfreq=(freq[0]).tolist()"
   ]
  },
  {
   "cell_type": "code",
   "execution_count": 4,
   "metadata": {},
   "outputs": [],
   "source": [
    "def tlog(x):\n",
    "    if x:\n",
    "        return x*(np.log2(x))\n",
    "    else :\n",
    "        return 0"
   ]
  },
  {
   "cell_type": "code",
   "execution_count": 5,
   "metadata": {},
   "outputs": [],
   "source": [
    "#function to find the entropy of a list of frequencies \n",
    "def entlist(lis,n):\n",
    "    sum=np.sum(lis)\n",
    "    ent=0\n",
    "    for i in range(n):\n",
    "        ent=ent-tlog(lis[i]/sum)\n",
    "    return ent   \n",
    "        "
   ]
  },
  {
   "cell_type": "code",
   "execution_count": 6,
   "metadata": {},
   "outputs": [],
   "source": [
    "#function to find the number in each cluster\n",
    "def freqclus(lis):\n",
    "    clusfreq=[]\n",
    "\n",
    "    for i in range(8):\n",
    "        clusfreq.append(len(lis[i]))\n",
    "    return clusfreq"
   ]
  },
  {
   "cell_type": "code",
   "execution_count": 7,
   "metadata": {},
   "outputs": [],
   "source": [
    "#function to find the freq of each label in a cluster \n",
    "def classbyclust(lis):\n",
    "    clustlabels=np.zeros([1,8])\n",
    "    for i in lis:\n",
    "        clustlabels[0,(int)(label[i])]=clustlabels[0,(int)(label[i])]+1\n",
    "    return (clustlabels[0]).tolist()\n",
    "        \n",
    "    \n",
    "    "
   ]
  },
  {
   "cell_type": "code",
   "execution_count": 8,
   "metadata": {},
   "outputs": [],
   "source": [
    "#function to find the weighted sum of entropies of clusters \n",
    "def condent(lis):\n",
    "    sum1=0\n",
    "    for i in range(8):\n",
    "        f=classbyclust(lis[i])\n",
    "        sum1=sum1+(entlist(f,8))*(len(lis[i]))/(589)\n",
    "    return sum1\n",
    "    "
   ]
  },
  {
   "cell_type": "code",
   "execution_count": 9,
   "metadata": {},
   "outputs": [],
   "source": [
    "#nmi_calculation\n",
    "def nmicalc(lis):\n",
    "    nmi=2*(entlist(labelfreq,8)-condent(lis))/(entlist(freqclus(lis),8)+entlist(labelfreq,8))\n",
    "    return nmi"
   ]
  },
  {
   "cell_type": "code",
   "execution_count": 10,
   "metadata": {},
   "outputs": [],
   "source": [
    "%store -r pca_agglo_final_clust"
   ]
  },
  {
   "cell_type": "code",
   "execution_count": 11,
   "metadata": {},
   "outputs": [],
   "source": [
    "%store -r agglo_final_clust"
   ]
  },
  {
   "cell_type": "code",
   "execution_count": 12,
   "metadata": {},
   "outputs": [],
   "source": [
    "%store -r kmeans_final_clust"
   ]
  },
  {
   "cell_type": "code",
   "execution_count": 13,
   "metadata": {},
   "outputs": [],
   "source": [
    "%store -r pca_kmeans_final_clust"
   ]
  },
  {
   "cell_type": "code",
   "execution_count": 14,
   "metadata": {},
   "outputs": [
    {
     "data": {
      "text/plain": [
       "0.024552195075452997"
      ]
     },
     "execution_count": 14,
     "metadata": {},
     "output_type": "execute_result"
    }
   ],
   "source": [
    "nmicalc(agglo_final_clust)"
   ]
  },
  {
   "cell_type": "code",
   "execution_count": 15,
   "metadata": {},
   "outputs": [
    {
     "data": {
      "text/plain": [
       "0.023201837753411"
      ]
     },
     "execution_count": 15,
     "metadata": {},
     "output_type": "execute_result"
    }
   ],
   "source": [
    "nmicalc(pca_agglo_final_clust)"
   ]
  },
  {
   "cell_type": "code",
   "execution_count": 16,
   "metadata": {},
   "outputs": [
    {
     "data": {
      "text/plain": [
       "0.5063931099623016"
      ]
     },
     "execution_count": 16,
     "metadata": {},
     "output_type": "execute_result"
    }
   ],
   "source": [
    "nmicalc(kmeans_final_clust)"
   ]
  },
  {
   "cell_type": "code",
   "execution_count": 17,
   "metadata": {},
   "outputs": [
    {
     "data": {
      "text/plain": [
       "0.6858655473657979"
      ]
     },
     "execution_count": 17,
     "metadata": {},
     "output_type": "execute_result"
    }
   ],
   "source": [
    "nmicalc(pca_kmeans_final_clust)"
   ]
  },
  {
   "cell_type": "code",
   "execution_count": null,
   "metadata": {},
   "outputs": [],
   "source": []
  }
 ],
 "metadata": {
  "kernelspec": {
   "display_name": "Python 3",
   "language": "python",
   "name": "python3"
  },
  "language_info": {
   "codemirror_mode": {
    "name": "ipython",
    "version": 3
   },
   "file_extension": ".py",
   "mimetype": "text/x-python",
   "name": "python",
   "nbconvert_exporter": "python",
   "pygments_lexer": "ipython3",
   "version": "3.7.4"
  }
 },
 "nbformat": 4,
 "nbformat_minor": 2
}
