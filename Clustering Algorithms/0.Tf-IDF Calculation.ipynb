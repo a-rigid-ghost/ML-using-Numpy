{
 "cells": [
  {
   "cell_type": "code",
   "execution_count": 1,
   "metadata": {},
   "outputs": [],
   "source": [
    "import numpy as np\n",
    "import pandas as pd\n",
    "import matplotlib.pyplot as plt\n",
    "import sklearn\n",
    "\n",
    "data = pd.read_csv('data.csv')\n",
    "data=data.drop(data.index[13])\n",
    "Y1 = data.iloc[:,0:1]\n",
    "X1 = data.iloc[:,1:8267].values\n",
    "Y1.columns=['Label']\n",
    "\n",
    "# adjusting the labels\n",
    "Y = pd.DataFrame(((Y1[\"Label\"].astype(str)).str.split(\"_\", 1)).str.get(0), columns = ['Label']).values\n",
    "\n",
    "# calculating the tf-idf matrix\n",
    "idf = np.zeros([1,X1.shape[1]])\n",
    "df = np.zeros([1,X1.shape[1]])\n",
    "\n",
    "for i in range(8266):\n",
    "    for j in range(589):\n",
    "        if X1[j,i]!=0:\n",
    "            df[0,i]=df[0,i]+1\n",
    "\n",
    "for i in range(8266):\n",
    "    idf[0,i]=(np.log(590/(1+df[0,i])))\n",
    "\n",
    "X2=np.zeros([X1.shape[0],X1.shape[1]])\n",
    "for i in range(589):\n",
    "    for j in range(8266):\n",
    "        X2[i,j]=X1[i,j]*idf[0,j]\n",
    "\n",
    "# normalizing the tf-idf matrix\n",
    "sq=np.square(X2)\n",
    "\n",
    "sumsq=np.zeros([X1.shape[0],1])\n",
    "for i in range(589):\n",
    "    sumsq[i,0]=np.sqrt(np.sum(sq[i]))\n",
    "    \n",
    "\n",
    "X=np.zeros([X1.shape[0],X1.shape[1]])\n",
    "for i in range(589):\n",
    "    for j in range(8266):\n",
    "        X[i,j]=X2[i,j]/sumsq[i,0]\n",
    "\n",
    "#calculating the proximity matrix\n",
    "prox=np.zeros([X1.shape[0],X1.shape[0]])\n",
    "\n",
    "for i in range(589):\n",
    "    for j in range(589):\n",
    "        prox[i,j]=np.exp(-np.dot(X[i],X[j]))"
   ]
  },
  {
   "cell_type": "code",
   "execution_count": 2,
   "metadata": {},
   "outputs": [
    {
     "data": {
      "text/plain": [
       "338690.8223990582"
      ]
     },
     "execution_count": 2,
     "metadata": {},
     "output_type": "execute_result"
    }
   ],
   "source": [
    "np.sum(prox)"
   ]
  },
  {
   "cell_type": "code",
   "execution_count": null,
   "metadata": {},
   "outputs": [],
   "source": []
  }
 ],
 "metadata": {
  "kernelspec": {
   "display_name": "Python 3",
   "language": "python",
   "name": "python3"
  },
  "language_info": {
   "codemirror_mode": {
    "name": "ipython",
    "version": 3
   },
   "file_extension": ".py",
   "mimetype": "text/x-python",
   "name": "python",
   "nbconvert_exporter": "python",
   "pygments_lexer": "ipython3",
   "version": "3.7.4"
  }
 },
 "nbformat": 4,
 "nbformat_minor": 2
}
