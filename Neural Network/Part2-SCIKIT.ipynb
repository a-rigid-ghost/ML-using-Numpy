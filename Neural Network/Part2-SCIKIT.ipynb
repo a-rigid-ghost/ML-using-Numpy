{
 "cells": [
  {
   "cell_type": "code",
   "execution_count": 1,
   "metadata": {},
   "outputs": [],
   "source": [
    "import numpy as np\n",
    "import pandas as pd\n",
    "import matplotlib.pyplot as plt\n",
    "import sklearn\n",
    "import random\n",
    "from sklearn.metrics import accuracy_score\n",
    "\n",
    "# preparing dataset\n",
    "\n",
    "data = pd.read_csv('data.csv')\n",
    "\n",
    "X1 = data.iloc[:,0:7]\n",
    "Y1 = data.iloc[:,7:8].values\n",
    "\n",
    "X1 = (X1 - X1.mean())/X1.std()\n",
    "\n",
    "# splitting into test set and training set with randomstate=0\n",
    "\n",
    "from sklearn.model_selection import train_test_split\n",
    "x_train,x_test,y_train,y_test=train_test_split(X1,Y1,test_size=0.2,random_state=0)"
   ]
  },
  {
   "cell_type": "code",
   "execution_count": 2,
   "metadata": {},
   "outputs": [
    {
     "name": "stdout",
     "output_type": "stream",
     "text": [
      "final training accuracy NN1:  0.9345238095238095\n",
      "final test accuracy NN1:  0.9285714285714286\n"
     ]
    },
    {
     "name": "stderr",
     "output_type": "stream",
     "text": [
      "C:\\Users\\dasti\\Anaconda3\\lib\\site-packages\\sklearn\\neural_network\\multilayer_perceptron.py:566: ConvergenceWarning: Stochastic Optimizer: Maximum iterations (200) reached and the optimization hasn't converged yet.\n",
      "  % self.max_iter, ConvergenceWarning)\n"
     ]
    }
   ],
   "source": [
    "from sklearn.neural_network import MLPClassifier\n",
    "\n",
    "# NN1\n",
    "mlp=MLPClassifier(hidden_layer_sizes=(32), activation='logistic', solver='sgd', batch_size=32, learning_rate='constant', learning_rate_init=0.01, max_iter=200,shuffle=True, random_state=0, tol=0.0001, early_stopping=False, n_iter_no_change=10)\n",
    "\n",
    "mlp.fit(x_train,y_train.reshape(x_train.shape[0]))\n",
    "\n",
    "y_pred_train = mlp.predict(x_train)\n",
    "y_pred_test = mlp.predict(x_test)\n",
    "\n",
    "print(\"final training accuracy NN1: \",accuracy_score(y_pred_train,y_train))\n",
    "print(\"final test accuracy NN1: \",accuracy_score(y_pred_test,y_test))"
   ]
  },
  {
   "cell_type": "code",
   "execution_count": 3,
   "metadata": {},
   "outputs": [
    {
     "name": "stdout",
     "output_type": "stream",
     "text": [
      "final training accuracy NN2:  0.9940476190476191\n",
      "final test accuracy NN2:  0.9285714285714286\n"
     ]
    }
   ],
   "source": [
    "# NN2\n",
    "mlp2=MLPClassifier(hidden_layer_sizes=(64,32), activation='relu', solver='sgd', batch_size=32, learning_rate='constant', learning_rate_init=0.01, max_iter=200, shuffle=True, random_state=0, tol=0.0001, early_stopping=False, n_iter_no_change=10)\n",
    "\n",
    "mlp2.fit(x_train,y_train.reshape(x_train.shape[0]))\n",
    "\n",
    "y_pred_train = mlp2.predict(x_train)\n",
    "y_pred_test = mlp2.predict(x_test)\n",
    "\n",
    "print(\"final training accuracy NN2: \",accuracy_score(y_pred_train,y_train))\n",
    "print(\"final test accuracy NN2: \",accuracy_score(y_pred_test,y_test))"
   ]
  },
  {
   "cell_type": "code",
   "execution_count": null,
   "metadata": {},
   "outputs": [],
   "source": []
  },
  {
   "cell_type": "code",
   "execution_count": null,
   "metadata": {},
   "outputs": [],
   "source": []
  }
 ],
 "metadata": {
  "kernelspec": {
   "display_name": "Python 3",
   "language": "python",
   "name": "python3"
  },
  "language_info": {
   "codemirror_mode": {
    "name": "ipython",
    "version": 3
   },
   "file_extension": ".py",
   "mimetype": "text/x-python",
   "name": "python",
   "nbconvert_exporter": "python",
   "pygments_lexer": "ipython3",
   "version": "3.7.4"
  }
 },
 "nbformat": 4,
 "nbformat_minor": 2
}
