{
 "cells": [
  {
   "cell_type": "code",
   "execution_count": 1,
   "metadata": {},
   "outputs": [
    {
     "name": "stdout",
     "output_type": "stream",
     "text": [
      "Accuracy = 0.8736801229697626\n",
      "Precision = 0.5512121212121213\n",
      "Recall = 0.3094241501775748\n"
     ]
    },
    {
     "name": "stderr",
     "output_type": "stream",
     "text": [
      "C:\\Users\\dasti\\Anaconda3\\lib\\site-packages\\sklearn\\linear_model\\sag.py:337: ConvergenceWarning: The max_iter was reached which means the coef_ did not converge\n",
      "  \"the coef_ did not converge\", ConvergenceWarning)\n",
      "C:\\Users\\dasti\\Anaconda3\\lib\\site-packages\\sklearn\\linear_model\\sag.py:337: ConvergenceWarning: The max_iter was reached which means the coef_ did not converge\n",
      "  \"the coef_ did not converge\", ConvergenceWarning)\n"
     ]
    }
   ],
   "source": [
    "import numpy as np\n",
    "import pandas as pd\n",
    "import matplotlib.pyplot as plt\n",
    "import sklearn\n",
    "\n",
    "data = pd.read_csv('wine.csv')\n",
    "X1 = data.iloc[:,0:11]\n",
    "y = data.iloc[:,11:12].values\n",
    "\n",
    "X1 = (X1 - X1.min())/(X1.max()-X1.min())\n",
    "X1=X1.values\n",
    "X = np.ones([X1.shape[0],1])\n",
    "X = np.concatenate((X,X1),axis=1)\n",
    "\n",
    "for i in range(1599):\n",
    "    if y[i,0]<7:\n",
    "        y[i,0]=0\n",
    "    else:\n",
    "        y[i,0]=1\n",
    "\n",
    "from sklearn.linear_model import LogisticRegression\n",
    "classifier = LogisticRegression(solver = 'saga', penalty = 'none', random_state = 0)\n",
    "\n",
    "from sklearn.model_selection import cross_validate\n",
    "scores = cross_validate(estimator = classifier, X = X, y = y.reshape(y.shape[0]), cv = 3, \n",
    "                        scoring = ('accuracy', 'precision', 'recall' ),\n",
    "                        return_train_score=True)\n",
    "\n",
    "print('Accuracy = '+ str(scores['test_accuracy'].mean()) )\n",
    "print('Precision = '+ str(scores['test_precision'].mean()) )\n",
    "print('Recall = '+ str(scores['test_recall'].mean()) )\n",
    "\n"
   ]
  },
  {
   "cell_type": "code",
   "execution_count": null,
   "metadata": {},
   "outputs": [],
   "source": []
  }
 ],
 "metadata": {
  "kernelspec": {
   "display_name": "Python 3",
   "language": "python",
   "name": "python3"
  },
  "language_info": {
   "codemirror_mode": {
    "name": "ipython",
    "version": 3
   },
   "file_extension": ".py",
   "mimetype": "text/x-python",
   "name": "python",
   "nbconvert_exporter": "python",
   "pygments_lexer": "ipython3",
   "version": "3.7.4"
  }
 },
 "nbformat": 4,
 "nbformat_minor": 2
}
