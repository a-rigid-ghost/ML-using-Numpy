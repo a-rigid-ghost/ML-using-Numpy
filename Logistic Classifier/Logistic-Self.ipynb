{
 "cells": [
  {
   "cell_type": "code",
   "execution_count": 1,
   "metadata": {},
   "outputs": [],
   "source": [
    "import numpy as np\n",
    "import pandas as pd\n",
    "import matplotlib.pyplot as plt\n",
    "import sklearn\n",
    "\n",
    "data = pd.read_csv('wine.csv')\n",
    "X1 = data.iloc[:,0:11]\n",
    "Y = data.iloc[:,11:12].values\n",
    "\n",
    "iteration=10000\n",
    "\n",
    "X1 = (X1 - X1.min())/(X1.max()-X1.min())\n",
    "X1=X1.values\n",
    "X = np.ones([X1.shape[0],1])\n",
    "X = np.concatenate((X,X1),axis=1)\n",
    "\n",
    "for i in range(1599):\n",
    "    if Y[i,0]<7:\n",
    "        Y[i,0]=0\n",
    "    else:\n",
    "        Y[i,0]=1\n",
    "\n",
    "theta=np.zeros([12,1])\n",
    "\n",
    "def hypo(X,theta):\n",
    "    Z = np.dot(X, theta)\n",
    "    W=1/(1+np.exp(-Z))\n",
    "    return W\n",
    "\n",
    "def costfunction(X,theta,Y):\n",
    "    Z=hypo(X,theta)\n",
    "    W=-(Y * np.log(Z)) - ((1 - Y) * np.log(1 - Z))\n",
    "    cost= np.sum(W)/(X.shape[0])\n",
    "    return cost\n",
    "\n",
    "def grad_des(X,theta,iteration,Y):\n",
    "        cost = np.zeros(iteration)\n",
    "        for i in range (iteration):\n",
    "            Z = hypo(X,theta)\n",
    "            theta = theta -(0.5)*((X.T).dot((Z-Y)))/(X.shape[0])\n",
    "            cost[i] = costfunction(X,theta,Y)\n",
    "        return theta,cost\n",
    "\n",
    "theta,cost=grad_des(X,theta,iteration,Y)\n",
    "\n",
    "Z=hypo(X,theta)\n",
    "\n",
    "result = (np.where(Z>=0.5,1,0))"
   ]
  },
  {
   "cell_type": "code",
   "execution_count": 2,
   "metadata": {},
   "outputs": [
    {
     "name": "stdout",
     "output_type": "stream",
     "text": [
      "[[  72  145]\n",
      " [  42 1340]]\n"
     ]
    },
    {
     "data": {
      "text/plain": [
       "0.8830519074421513"
      ]
     },
     "execution_count": 2,
     "metadata": {},
     "output_type": "execute_result"
    }
   ],
   "source": [
    "from sklearn.metrics import accuracy_score\n",
    "from sklearn.metrics import confusion_matrix\n",
    "\n",
    "cm=confusion_matrix(Y,result,labels=[1,0])\n",
    "print(cm)\n",
    "\n",
    "accuracy_score(Y,result)"
   ]
  },
  {
   "cell_type": "code",
   "execution_count": 3,
   "metadata": {},
   "outputs": [
    {
     "data": {
      "image/png": "[encoded data removed]",
      "text/plain": [
       "<Figure size 432x288 with 1 Axes>"
      ]
     },
     "metadata": {
      "needs_background": "light"
     },
     "output_type": "display_data"
    }
   ],
   "source": [
    "plt.plot(np.arange(iteration),cost)\n",
    "plt.show()"
   ]
  },
  {
   "cell_type": "code",
   "execution_count": null,
   "metadata": {},
   "outputs": [],
   "source": []
  }
 ],
 "metadata": {
  "kernelspec": {
   "display_name": "Python 3",
   "language": "python",
   "name": "python3"
  },
  "language_info": {
   "codemirror_mode": {
    "name": "ipython",
    "version": 3
   },
   "file_extension": ".py",
   "mimetype": "text/x-python",
   "name": "python",
   "nbconvert_exporter": "python",
   "pygments_lexer": "ipython3",
   "version": "3.7.4"
  }
 },
 "nbformat": 4,
 "nbformat_minor": 2
}
